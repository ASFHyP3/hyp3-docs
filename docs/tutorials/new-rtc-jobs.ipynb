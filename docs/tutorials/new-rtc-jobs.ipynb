{
 "cells": [
  {
   "cell_type": "markdown",
   "id": "d74b0e53-3f0f-4e76-8099-e307f03c4d6e",
   "metadata": {},
   "source": [
    "# Submit RTC jobs for new granules\n",
    "\n",
    "Install dependencies:"
   ]
  },
  {
   "cell_type": "code",
   "execution_count": null,
   "id": "9f5b47c3-86db-4574-b44e-09952106360d",
   "metadata": {},
   "outputs": [],
   "source": [
    "# TODO remove asf-search pin when https://github.com/asfadmin/Discovery-asf_search/issues/204 is resolved\n",
    "!pip install asf-search==6.0.2 hyp3-sdk\n",
    "\n",
    "import asf_search\n",
    "from hyp3_sdk import HyP3"
   ]
  },
  {
   "cell_type": "markdown",
   "id": "334cf891-8ad6-4f9a-b7c7-4f5c7fd7ddc7",
   "metadata": {},
   "source": [
    "Define search parameters and job specification:"
   ]
  },
  {
   "cell_type": "code",
   "execution_count": null,
   "id": "b6c5257b-31f2-42f8-b42a-147e88873f94",
   "metadata": {},
   "outputs": [],
   "source": [
    "search_parameters = {\n",
    "    \"start\": \"2023-06-20T00:00:00Z\",\n",
    "    \"end\": \"2023-07-24T00:00:00Z\",\n",
    "    \"intersectsWith\":\n",
    "        \"POLYGON((-110.7759 44.8543,-101.3998 44.8543,-101.3998 50.8183,-110.7759 50.8183,-110.7759 44.8543))\",\n",
    "    \"platform\": \"S1\",\n",
    "    \"processingLevel\": \"SLC\",\n",
    "}\n",
    "job_specification = {\n",
    "    \"job_parameters\": {\n",
    "        \"resolution\": 30,\n",
    "    },\n",
    "    \"job_type\": \"RTC_GAMMA\",\n",
    "    \"name\": \"new-rtc-job\"\n",
    "}"
   ]
  },
  {
   "cell_type": "markdown",
   "id": "425a5bb4-497a-4de6-b841-f739d9cb37f1",
   "metadata": {},
   "source": [
    "Construct a list of unprocessed granules:"
   ]
  },
  {
   "cell_type": "code",
   "execution_count": null,
   "id": "bff7fe5d-2d0a-4360-8c6d-55de10d45c2e",
   "metadata": {},
   "outputs": [],
   "source": [
    "hyp3 = HyP3(api_url='https://hyp3-test-api.asf.alaska.edu/')\n",
    "\n",
    "previous_jobs = hyp3.find_jobs(\n",
    "    name=job_specification['name'],\n",
    "    job_type=job_specification['job_type'],\n",
    ")\n",
    "processed_granules = [job.job_parameters['granules'][0] for job in previous_jobs]\n",
    "\n",
    "search_results = asf_search.search(**search_parameters)\n",
    "search_results.raise_if_incomplete()\n",
    "\n",
    "unprocessed_granules = [\n",
    "    result for result in search_results if result.properties['sceneName'] not in processed_granules\n",
    "]"
   ]
  },
  {
   "cell_type": "markdown",
   "id": "23a0a176-5829-4a97-b6cc-ff7f0e36243c",
   "metadata": {},
   "source": [
    "Submit a new job for each unprocessed granule:"
   ]
  },
  {
   "cell_type": "code",
   "execution_count": null,
   "id": "1d57114a-e652-4b04-ae1e-db7f727941dc",
   "metadata": {},
   "outputs": [],
   "source": [
    "from copy import deepcopy\n",
    "\n",
    "def get_job_for_granule(granule: asf_search.ASFProduct) -> dict:\n",
    "    job = deepcopy(job_specification)\n",
    "    job['job_parameters']['granules'] = [granule.properties['sceneName']]\n",
    "    return job\n",
    "\n",
    "\n",
    "new_jobs = [get_job_for_granule(granule) for granule in unprocessed_granules]\n",
    "print(f'Submitting {len(new_jobs)} jobs')\n",
    "if new_jobs:\n",
    "    hyp3.submit_prepared_jobs(new_jobs)"
   ]
  }
 ],
 "metadata": {
  "kernelspec": {
   "display_name": "Python 3 (ipykernel)",
   "language": "python",
   "name": "python3"
  },
  "language_info": {
   "codemirror_mode": {
    "name": "ipython",
    "version": 3
   },
   "file_extension": ".py",
   "mimetype": "text/x-python",
   "name": "python",
   "nbconvert_exporter": "python",
   "pygments_lexer": "ipython3",
   "version": "3.10.12"
  }
 },
 "nbformat": 4,
 "nbformat_minor": 5
}
