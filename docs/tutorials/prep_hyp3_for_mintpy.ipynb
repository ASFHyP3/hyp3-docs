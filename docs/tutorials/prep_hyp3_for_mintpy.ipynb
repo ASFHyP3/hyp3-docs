{
 "cells": [
  {
   "cell_type": "markdown",
   "metadata": {},
   "source": [
    "# InSAR time series analysis with HyP3 and MintPy\n",
    "\n",
    "This notebook shows how to prepare hyp3 products for a time-series analysis with MintPy. It requires `hyp3_sdk`.\n",
    "\n",
    "+ run `conda install --yes -c conda-forge hyp3_sdk ipywidgets` to install `hyp3_sdk`\n",
    "+ check the [installation page](https://github.com/insarlab/MintPy/blob/main/docs/installation.md) to install `MintPy`\n",
    "+ check the tutorial (https://github.com/insarlab/MintPy-tutorial/blob/main/smallbaselineApp_hyp3.ipynb) to find out how to do a time series analysis with hyp3 products\n",
    "+ In this tutorial, we use a 2019 Ridgecrest, CA earthquake (https://earthquake.usgs.gov/storymap/index-ridgecrest.html) data set as the example."
   ]
  },
  {
   "cell_type": "markdown",
   "metadata": {},
   "source": [
    "## 0. Initial setup of the notebook\n",
    "\n",
    "The cell below performs the intial setup of the notebook and must be **run every time the notebook (re)starts**. It imports necessary modules and defines the processing location."
   ]
  },
  {
   "cell_type": "code",
   "execution_count": null,
   "metadata": {},
   "outputs": [],
   "source": [
    "import re\n",
    "import zipfile\n",
    "import numpy as np\n",
    "import hyp3_sdk\n",
    "from pathlib import Path\n",
    "from osgeo import gdal"
   ]
  },
  {
   "cell_type": "markdown",
   "metadata": {},
   "source": [
    "Define needed paths and create analysis directories"
   ]
  },
  {
   "cell_type": "code",
   "execution_count": null,
   "metadata": {},
   "outputs": [],
   "source": [
    "proj_name = 'test_prep_ts_hyp3'\n",
    "proj_dir = Path.cwd().joinpath(proj_name)\n",
    "hyp3_dir = proj_dir.joinpath('hyp3')\n",
    "dirs = [proj_dir, hyp3_dir]\n",
    "\n",
    "for dir in dirs:\n",
    "    if not dir.is_dir():\n",
    "        dir.mkdir()"
   ]
  },
  {
   "cell_type": "markdown",
   "metadata": {},
   "source": [
    "## 1. Search SLC filenames\n",
    "\n",
    "Get the SLC filename pairs to be used for InSAR processing with HyP3. \n",
    "\n",
    "One could use the ASF vertex (https://search.asf.alaska.edu) to find these.\n",
    "\n",
    "We define our example pairs below:"
   ]
  },
  {
   "cell_type": "code",
   "execution_count": null,
   "metadata": {},
   "outputs": [],
   "source": [
    "pairs = [\n",
    "  ('S1A_IW_SLC__1SDV_20190610T135156_20190610T135223_027618_031DEF_C70F', 'S1A_IW_SLC__1SDV_20190622T135157_20190622T135224_027793_03232E_0388'),\n",
    "  ('S1A_IW_SLC__1SDV_20190610T135156_20190610T135223_027618_031DEF_C70F', 'S1A_IW_SLC__1SDV_20190704T135158_20190704T135225_027968_032877_1C4D'),\n",
    "  ('S1A_IW_SLC__1SDV_20190622T135157_20190622T135224_027793_03232E_0388', 'S1A_IW_SLC__1SDV_20190704T135158_20190704T135225_027968_032877_1C4D'),\n",
    "  ('S1A_IW_SLC__1SDV_20190622T135157_20190622T135224_027793_03232E_0388', 'S1A_IW_SLC__1SDV_20190716T135159_20190716T135226_028143_032DC3_512B'),\n",
    "  ('S1A_IW_SLC__1SDV_20190704T135158_20190704T135225_027968_032877_1C4D', 'S1A_IW_SLC__1SDV_20190716T135159_20190716T135226_028143_032DC3_512B'),\n",
    "  ('S1A_IW_SLC__1SDV_20190704T135158_20190704T135225_027968_032877_1C4D', 'S1A_IW_SLC__1SDV_20190728T135159_20190728T135226_028318_03331A_C807'),\n",
    "  ('S1A_IW_SLC__1SDV_20190716T135159_20190716T135226_028143_032DC3_512B', 'S1A_IW_SLC__1SDV_20190728T135159_20190728T135226_028318_03331A_C807'),\n",
    "  ('S1A_IW_SLC__1SDV_20190716T135159_20190716T135226_028143_032DC3_512B', 'S1A_IW_SLC__1SDV_20190809T135200_20190809T135227_028493_033887_08A4'),\n",
    "  ('S1A_IW_SLC__1SDV_20190728T135159_20190728T135226_028318_03331A_C807', 'S1A_IW_SLC__1SDV_20190809T135200_20190809T135227_028493_033887_08A4'),\n",
    "  ('S1A_IW_SLC__1SDV_20190728T135159_20190728T135226_028318_03331A_C807', 'S1A_IW_SLC__1SDV_20190821T135201_20190821T135228_028668_033EA0_ADF7'),\n",
    "  ('S1A_IW_SLC__1SDV_20190809T135200_20190809T135227_028493_033887_08A4', 'S1A_IW_SLC__1SDV_20190821T135201_20190821T135228_028668_033EA0_ADF7'),\n",
    "  ('S1A_IW_SLC__1SDV_20190809T135200_20190809T135227_028493_033887_08A4', 'S1B_IW_SLC__1SDV_20190815T135119_20190815T135146_017597_0211A9_DE22'),\n",
    "  ('S1A_IW_SLC__1SDV_20190821T135201_20190821T135228_028668_033EA0_ADF7', 'S1B_IW_SLC__1SDV_20190815T135119_20190815T135146_017597_0211A9_DE22'),\n",
    "  ('S1A_IW_SLC__1SDV_20190821T135201_20190821T135228_028668_033EA0_ADF7', 'S1B_IW_SLC__1SDV_20190827T135119_20190827T135146_017772_021724_4F37'),\n",
    "  ('S1B_IW_SLC__1SDV_20190815T135119_20190815T135146_017597_0211A9_DE22', 'S1B_IW_SLC__1SDV_20190827T135119_20190827T135146_017772_021724_4F37'),\n",
    "]"
   ]
  },
  {
   "cell_type": "markdown",
   "metadata": {},
   "source": [
    "## 2. Use the [hyp3-sdk](https://github.com/ASFHyP3/hyp3-sdk) to submit jobs for InSAR processing and to download the hyp3 products"
   ]
  },
  {
   "cell_type": "code",
   "execution_count": null,
   "metadata": {},
   "outputs": [],
   "source": [
    "# initialize a HyP3 object\n",
    "try:\n",
    "    hyp3 = hyp3_sdk.HyP3(hyp3_sdk.TEST_API)\n",
    "except hyp3_sdk.exceptions.AuthenticationError:\n",
    "    hyp3 = hyp3_sdk.HyP3(prompt = True)\n",
    "\n",
    "insar_jobs = hyp3_sdk.Batch()\n",
    "\n",
    "# submit InSAR jobs\n",
    "for pair in pairs:\n",
    "    reference_granule = pair[0]\n",
    "    secondary_granule = pair[1]\n",
    "    insar_jobs += hyp3.submit_insar_job(reference_granule, secondary_granule,\n",
    "                                        name=proj_name, include_look_vectors=True,\n",
    "                                        include_dem=True)\n",
    "# watch InSAR jobs\n",
    "insar_jobs = hyp3.watch(insar_jobs)\n",
    "\n",
    "# download and uncompress InSAR results\n",
    "zip_files = insar_jobs.download_files(proj_dir)\n",
    "\n",
    "for zip_file in zip_files:\n",
    "    with zipfile.ZipFile(zip_file) as zip_ref:\n",
    "        zip_ref.extractall(hyp3_dir)\n",
    "        zip_file.unlink()\n",
    "\n",
    "# prepared data structure are:\n",
    "!tree {hyp3_dir}"
   ]
  },
  {
   "cell_type": "markdown",
   "metadata": {},
   "source": [
    "## 3. Prepare InSAR files for MintPy time series analysis\n",
    "\n",
    "By clipping the GeoTIFF files into the same grids using `gdal`."
   ]
  },
  {
   "cell_type": "code",
   "execution_count": null,
   "metadata": {},
   "outputs": [],
   "source": [
    "fnames = list(hyp3_dir.glob('*/*.tif'))\n",
    "\n",
    "# determine the smallest area covered by all input files\n",
    "corners = [gdal.Info(str(f), format='json')['cornerCoordinates'] for f in fnames]\n",
    "ulx = max(corner['upperLeft'][0] for corner in corners)\n",
    "uly = min(corner['upperLeft'][1] for corner in corners)\n",
    "lrx = min(corner['lowerRight'][0] for corner in corners)\n",
    "lry = max(corner['lowerRight'][1] for corner in corners)\n",
    "\n",
    "# clip the files\n",
    "regex = '(?<=_)(corr|unw_phase|water_mask|dem|lv_theta)(?=.tif)'\n",
    "for fname in fnames:\n",
    "    if re.search(regex, str(fname)):\n",
    "        fname_out = fname.parent.joinpath(Path(f\"{fname.stem}_clip{fname.suffix}\"))\n",
    "        gdal.Translate(destName=str(fname_out), srcDS=str(fname), projWin=[ulx, uly, lrx, lry])\n",
    "        fname.unlink()\n",
    "        \n",
    "# remove the *.xml, png, and *.kmz files\n",
    "for pattern in [\"xml\",\"png\",\"kmz\",\"md.txt\"]:\n",
    "    unneeded_files = hyp3_dir.glob(f\"*/*.{pattern}\")\n",
    "    for file in unneeded_files:\n",
    "        file.unlink()\n",
    "\n",
    "# show the data structure\n",
    "!tree {hyp3_dir}"
   ]
  }
 ],
 "metadata": {
  "kernelspec": {
   "display_name": "mintpy",
   "language": "python",
   "name": "conda-env-.local-mintpy-py"
  },
  "language_info": {
   "codemirror_mode": {
    "name": "ipython",
    "version": 3
   },
   "file_extension": ".py",
   "mimetype": "text/x-python",
   "name": "python",
   "nbconvert_exporter": "python",
   "pygments_lexer": "ipython3",
   "version": "3.8.10"
  }
 },
 "nbformat": 4,
 "nbformat_minor": 4
}
